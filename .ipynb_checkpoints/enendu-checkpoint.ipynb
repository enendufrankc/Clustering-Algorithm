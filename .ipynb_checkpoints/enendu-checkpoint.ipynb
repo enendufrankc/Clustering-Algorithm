{
 "cells": [
  {
   "cell_type": "markdown",
   "id": "b3dbb343",
   "metadata": {},
   "source": [
    "# Implementing Clustering Algorithms"
   ]
  },
  {
   "cell_type": "code",
   "execution_count": 1,
   "id": "481cd42b",
   "metadata": {},
   "outputs": [],
   "source": [
    "import numpy as np\n",
    "import pandas as pd\n",
    "from sklearn.decomposition import PCA\n",
    "import matplotlib.pyplot as plt\n",
    "from IPython.display import clear_output\n",
    "import math"
   ]
  },
  {
   "cell_type": "code",
   "execution_count": 2,
   "id": "bc01353c",
   "metadata": {},
   "outputs": [],
   "source": [
    "filepath = 'dataset'\n",
    "def data_import(filepath): \n",
    "    # Create an empty list to hold the data\n",
    "    data = []\n",
    "\n",
    "    # Open the file and read each line\n",
    "    with open(filepath) as f:\n",
    "        for line in f:\n",
    "            # Split the line into individual values\n",
    "            values = line.strip().split()\n",
    "\n",
    "            # Convert each value to a float (except the first one)\n",
    "            values = [float(v) if i!=0 else v for i,v in enumerate(values)]\n",
    "\n",
    "            # Add the values to the data list\n",
    "            data.append(values)\n",
    "\n",
    "    # Convert the data list to a pandas DataFrame\n",
    "    data = pd.DataFrame(data)\n",
    "    label = data.iloc[:, 0]\n",
    "    lebel = np.array(label)\n",
    "    # Drop the first column (label)\n",
    "    data = data.drop(columns=[0])\n",
    "    data = np.array(data)\n",
    "    return data, label\n",
    "data, label = data_import(filepath)"
   ]
  },
  {
   "cell_type": "code",
   "execution_count": 3,
   "id": "cfdac34c",
   "metadata": {},
   "outputs": [],
   "source": [
    "def silhouette_coef(data, maxIter, algorithm):\n",
    "    silhouette_scores = []\n",
    "    for k in range(2, 11):\n",
    "        centers, labels = algorithm(data, k, maxIter)\n",
    "        # calculate silhouette coefficient\n",
    "        s = []\n",
    "        for i in range(len(data)):\n",
    "            a = np.mean([np.linalg.norm(data[i]-data[j]) for j in range(len(data)) if labels[j] == labels[i]])\n",
    "            b = min([np.mean([np.linalg.norm(data[i]-data[j]) for j in range(len(data)) if labels[j] == c]) for c in range(k) if c != labels[i]])\n",
    "            s.append((b-a)/max(a,b))\n",
    "        silhouette_scores.append(np.mean(s))\n",
    "    return silhouette_scores"
   ]
  },
  {
   "cell_type": "code",
   "execution_count": 4,
   "id": "edf1fbfe",
   "metadata": {},
   "outputs": [],
   "source": [
    "def silhouette_plot(silhouette_scores):\n",
    "    # plot silhouette scores for each k\n",
    "    plt.plot(range(2, 11), silhouette_scores)\n",
    "    plt.xlabel('Number of clusters (k)')\n",
    "    plt.ylabel('Silhouette coefficient')\n",
    "    plt.show()"
   ]
  },
  {
   "cell_type": "code",
   "execution_count": 5,
   "id": "0be54e8c",
   "metadata": {},
   "outputs": [],
   "source": [
    "def run_cluster(closest, label):\n",
    "    data_dict = {'cluster': closest, 'Animal': label}\n",
    "\n",
    "    # create a dataframe from the dictionary\n",
    "    df = pd.DataFrame(data_dict)\n",
    "    return df"
   ]
  },
  {
   "cell_type": "markdown",
   "id": "3f37290a",
   "metadata": {},
   "source": [
    "## Questions/Tasks 1"
   ]
  },
  {
   "cell_type": "markdown",
   "id": "dea12c38",
   "metadata": {},
   "source": [
    "#### Explain the k-means clustering algorithm"
   ]
  },
  {
   "cell_type": "markdown",
   "id": "b084d31d",
   "metadata": {},
   "source": [
    "The K-means clustering algorithm is a type of clustering unsupervised learning algorithm for dividing a dataset into K clusters. The algorithm starts with an initial guess for the K cluster centers, and then iteratively assigns each data point to its closest cluster center, followed by updating the cluster centers to be the mean of the assigned points. This process continues until the cluster centers stop moving or until a maximum number of iterations is reached."
   ]
  },
  {
   "cell_type": "markdown",
   "id": "79ad6eda",
   "metadata": {},
   "source": [
    "#### Provide pseudo code of the algorithm"
   ]
  },
  {
   "cell_type": "raw",
   "id": "20b61c33",
   "metadata": {},
   "source": [
    "function K-mean(Dataset, K, maxIter):\n",
    "    // Initialization phase\n",
    "    randomly_choose K points from Dataset as cluster representatives Y1, ..., Yk\n",
    "\n",
    "    repeat for i = 1 to maxIter:\n",
    "        // Assignment phase\n",
    "        create empty clusters C1, ..., Ck\n",
    "        for each point X in the Dataset:\n",
    "            find the closest cluster representative Yj based on squared Euclidean distance\n",
    "            assign X to the cluster with representative Yj\n",
    "            add X to the corresponding cluster Cj\n",
    "        \n",
    "        // Optimization phase\n",
    "        for j = 1 to k:\n",
    "            compute the mean of the points in cluster Cj as the new cluster representative Yj\n",
    "        \n",
    "        // Check convergence\n",
    "        if no points have changed clusters:\n",
    "            break // converged\n",
    "    return cluster representatives Y1, ..., Yk"
   ]
  },
  {
   "cell_type": "markdown",
   "id": "9c7073ee",
   "metadata": {},
   "source": [
    "#### Implement the k-means clustering algorithm following your explanation and the pseudo code"
   ]
  },
  {
   "cell_type": "code",
   "execution_count": 6,
   "id": "416f3a80",
   "metadata": {},
   "outputs": [],
   "source": [
    "def kmeans(data, k, maxIter):\n",
    "    \n",
    "    # init centers\n",
    "    n = data.shape[0]\n",
    "    centeroid = data[np.random.choice(n, k, replace=False)]    \n",
    "    closest = np.zeros(n).astype(int)\n",
    "    \n",
    "    for iteration in range(maxIter):\n",
    "        old_closest = closest.copy()\n",
    "        \n",
    "        #  update cluster membership\n",
    "        distances = np.zeros((n,k))\n",
    "        for i in range(k):\n",
    "            distances[:,i] = ((data-centeroid[i])**2).sum(axis=1)\n",
    "        distances\n",
    "        \n",
    "        closest = np.argmin(distances, axis=1)\n",
    "        \n",
    "        #  update centers\n",
    "        for i in range(k):\n",
    "            centeroid[i, :] = data[closest == i].mean(axis=0)\n",
    "            \n",
    "        # break if converged\n",
    "        if all(closest == old_closest):\n",
    "            break\n",
    "    centeroid = np.array(centeroid)\n",
    "    return centeroid, closest"
   ]
  },
  {
   "cell_type": "markdown",
   "id": "407ceee5",
   "metadata": {},
   "source": [
    "## Questions/Tasks 2"
   ]
  },
  {
   "cell_type": "markdown",
   "id": "d2c5855e",
   "metadata": {},
   "source": [
    "#### Explain the k-means++ clustering algorithm. "
   ]
  },
  {
   "cell_type": "code",
   "execution_count": null,
   "id": "8fa6697a",
   "metadata": {},
   "outputs": [],
   "source": []
  },
  {
   "cell_type": "markdown",
   "id": "3de9c0dd",
   "metadata": {},
   "source": [
    "#### Provide pseudo code of the algorithm."
   ]
  },
  {
   "cell_type": "raw",
   "id": "bf2e2e4e",
   "metadata": {},
   "source": [
    "function kmeans++(Dataset, K, Maxiter):\n",
    "    // Initialization phase\n",
    "    randomly_choose 1 point from Dataset as the first cluster representative Y1\n",
    "    for i = 2 to K:\n",
    "        for each point X in the Dataset:\n",
    "            calculate the distance D(X) to its nearest cluster representative\n",
    "        choose the next cluster representative Yi with probability proportional to D(X)^2\n",
    "    set the initial cluster representatives to Y1, ..., Yk\n",
    "    \n",
    "    repeat for i = 1 to Maxiter:\n",
    "        // Assignment phase\n",
    "        create empty clusters C1, ..., Ck\n",
    "        for each point X in the Dataset:\n",
    "            find the closest cluster representative Yj based on squared Euclidean distance\n",
    "            assign X to the cluster with representative Yj\n",
    "            add X to the corresponding cluster Cj\n",
    "        \n",
    "        // Optimization phase\n",
    "        for j = 1 to k:\n",
    "            compute the mean of the points in cluster Cj as the new cluster representative Yj\n",
    "        \n",
    "        // Check convergence\n",
    "        if no points have changed clusters:\n",
    "            break // converged\n",
    "    return cluster representatives Y1, ..., Yk"
   ]
  },
  {
   "cell_type": "markdown",
   "id": "b85c9541",
   "metadata": {},
   "source": [
    "#### Implement the k-means++ clustering algorithm following your explanation and the pseudo code"
   ]
  },
  {
   "cell_type": "code",
   "execution_count": 7,
   "id": "4a28cb95",
   "metadata": {},
   "outputs": [],
   "source": [
    "def kmeans_pp(data, k, maxIter):\n",
    "    \n",
    "    # Initialization\n",
    "    n = data.shape[0]\n",
    "    centeroid = np.zeros((k, data.shape[1]))\n",
    "    centeroid[0] = data[np.random.choice(n)]\n",
    "    \n",
    "    for i in range(1, k):\n",
    "        # Compute distance to nearest center for each point\n",
    "        distances = np.zeros(n)\n",
    "        for j in range(n):\n",
    "            distances[j] = np.min(np.sum((centeroid[:i] - data[j])**2, axis=1))\n",
    "        \n",
    "        # Choose next center with probability proportional to square distance\n",
    "        prob = distances**2 / np.sum(distances**2)\n",
    "        centeroid[i] = data[np.random.choice(n, p=prob)]\n",
    "        \n",
    "    # K-means iteration\n",
    "    closest = np.zeros(n).astype(int)\n",
    "    \n",
    "    for iteration in range(maxIter):\n",
    "        old_closest = closest.copy()\n",
    "        \n",
    "        #  update cluster membership\n",
    "        distances = np.zeros((n,k))\n",
    "        for i in range(k):\n",
    "            distances[:,i] = ((data-centeroid[i])**2).sum(axis=1)\n",
    "        \n",
    "        closest = np.argmin(distances, axis=1)\n",
    "        \n",
    "        #  update centers\n",
    "        for i in range(k):\n",
    "            centeroid[i, :] = data[closest == i].mean(axis=0)\n",
    "            \n",
    "        # break if converged\n",
    "        if all(closest == old_closest):\n",
    "            break\n",
    "            \n",
    "    return centeroid, closest"
   ]
  },
  {
   "cell_type": "markdown",
   "id": "6fe12652",
   "metadata": {},
   "source": [
    "## Questions/Tasks 3"
   ]
  },
  {
   "cell_type": "markdown",
   "id": "c1d60473",
   "metadata": {},
   "source": [
    "#### Explain the Bisecting k-Means hierarchical clustering algorithm. "
   ]
  },
  {
   "cell_type": "code",
   "execution_count": null,
   "id": "5853904e",
   "metadata": {},
   "outputs": [],
   "source": []
  },
  {
   "cell_type": "markdown",
   "id": "b6cb4ab8",
   "metadata": {},
   "source": [
    "#### Provide pseudo code of the algorithm"
   ]
  },
  {
   "cell_type": "raw",
   "id": "751a2283",
   "metadata": {},
   "source": [
    "Bisecting K-mean (dataset, s):\n",
    "    // Initialization phase\n",
    "    create a tree T with a single node containing the whole dataset D\n",
    "    set current number of clusters k = 1\n",
    "    \n",
    "    // Repeat until k == s\n",
    "    while k < s:\n",
    "        // Select a leaf node L with the largest sum of squared distance\n",
    "        max_dist = -1\n",
    "        for each leaf node L in T:\n",
    "            compute the sum of squared distance ∑ dist(X, Y)**2 for cluster L\n",
    "            if sum_of_squares > max_dist:\n",
    "                max_dist = sum_of_squares\n",
    "                selected_leaf_node = L\n",
    "\n",
    "        // Split the selected leaf node L into 2 clusters L1, L2 using k-means algorithm\n",
    "        cluster_representatives = k-mean(selected_leaf_node.dataset, 2, maxIter)\n",
    "        L1 = a new node with cluster_representatives[1] as its representative and its dataset consisting of the points assigned to that cluster in the k-means algorithm\n",
    "        L2 = a new node with cluster_representatives[2] as its representative and its dataset consisting of the points assigned to that cluster in the k-means algorithm\n",
    "\n",
    "        // Add L1, L2 as children of L in T\n",
    "        remove selected_leaf_node from T\n",
    "        add L1, L2 as children of selected_leaf_node in T\n",
    "\n",
    "        // Update the number of clusters\n",
    "        k = k + 1\n",
    "\n",
    "    // Return the leaf clusters\n",
    "    return all leaf nodes in T"
   ]
  },
  {
   "cell_type": "markdown",
   "id": "be088421",
   "metadata": {},
   "source": [
    "#### Implement the Bisecting k-Means algorithm following your explanation and the pseudo code."
   ]
  },
  {
   "cell_type": "code",
   "execution_count": 8,
   "id": "45007849",
   "metadata": {},
   "outputs": [],
   "source": [
    "def bisecting_kmeans(data, k, maxIter):\n",
    "    # Initialize with all data points in one cluster\n",
    "    clusters = [data]\n",
    "    centroid = [data.mean(axis=0)]\n",
    "    closest = np.zeros(data.shape[0]).astype(int)\n",
    "\n",
    "    # Bisect clusters k-1 times\n",
    "    for i in range(k - 1):\n",
    "        # Find the cluster with the largest SSE (sum of squared errors)\n",
    "        max_sse = 0\n",
    "        max_cluster_index = -1\n",
    "        for j in range(len(clusters)):\n",
    "            sse = ((clusters[j] - centroid[j])**2).sum()\n",
    "            if sse > max_sse:\n",
    "                max_sse = sse\n",
    "                max_cluster_index = j\n",
    "\n",
    "        # Bisect the largest cluster\n",
    "        bisect_cluster = clusters.pop(max_cluster_index)\n",
    "        bisect_centroid = centroid.pop(max_cluster_index)\n",
    "\n",
    "        # Run k-means on the two resulting clusters\n",
    "        for j in range(2):\n",
    "            centeroid, closest = kmeans(bisect_cluster, 2, maxIter)\n",
    "            cluster = [bisect_cluster[closest==j] for j in range(k)]\n",
    "            clusters.append(cluster[j])\n",
    "            centroid.append(centeroid[j])\n",
    "\n",
    "    # Assign cluster labels to each data point\n",
    "    labels = np.zeros(data.shape[0]).astype(int)\n",
    "    for i in range(len(clusters)):\n",
    "        labels[np.isin(data, clusters[i]).all(axis=1)] = i\n",
    "    centroid = np.array(centroid)\n",
    "    return centroid, labels"
   ]
  },
  {
   "cell_type": "markdown",
   "id": "240ef5e8",
   "metadata": {},
   "source": [
    "## Questions/Tasks 4"
   ]
  },
  {
   "cell_type": "markdown",
   "id": "b3bd9e96",
   "metadata": {},
   "source": [
    "#### Run the k-means clustering algorithm you implemented in part (1) to cluster the given instances"
   ]
  },
  {
   "cell_type": "code",
   "execution_count": 9,
   "id": "943d03a7",
   "metadata": {},
   "outputs": [
    {
     "data": {
      "text/plain": [
       "(3, 300)"
      ]
     },
     "execution_count": 9,
     "metadata": {},
     "output_type": "execute_result"
    }
   ],
   "source": [
    "centeroid, closest = kmeans(data, 3, 10)\n",
    "centeroid.shape"
   ]
  },
  {
   "cell_type": "code",
   "execution_count": 10,
   "id": "296cd557",
   "metadata": {},
   "outputs": [
    {
     "data": {
      "text/html": [
       "<div>\n",
       "<style scoped>\n",
       "    .dataframe tbody tr th:only-of-type {\n",
       "        vertical-align: middle;\n",
       "    }\n",
       "\n",
       "    .dataframe tbody tr th {\n",
       "        vertical-align: top;\n",
       "    }\n",
       "\n",
       "    .dataframe thead th {\n",
       "        text-align: right;\n",
       "    }\n",
       "</style>\n",
       "<table border=\"1\" class=\"dataframe\">\n",
       "  <thead>\n",
       "    <tr style=\"text-align: right;\">\n",
       "      <th></th>\n",
       "      <th>cluster</th>\n",
       "      <th>Animal</th>\n",
       "    </tr>\n",
       "  </thead>\n",
       "  <tbody>\n",
       "    <tr>\n",
       "      <th>0</th>\n",
       "      <td>0</td>\n",
       "      <td>elephant</td>\n",
       "    </tr>\n",
       "    <tr>\n",
       "      <th>1</th>\n",
       "      <td>0</td>\n",
       "      <td>leopard</td>\n",
       "    </tr>\n",
       "    <tr>\n",
       "      <th>2</th>\n",
       "      <td>0</td>\n",
       "      <td>dog</td>\n",
       "    </tr>\n",
       "    <tr>\n",
       "      <th>3</th>\n",
       "      <td>0</td>\n",
       "      <td>cat</td>\n",
       "    </tr>\n",
       "    <tr>\n",
       "      <th>4</th>\n",
       "      <td>1</td>\n",
       "      <td>aligator</td>\n",
       "    </tr>\n",
       "    <tr>\n",
       "      <th>...</th>\n",
       "      <td>...</td>\n",
       "      <td>...</td>\n",
       "    </tr>\n",
       "    <tr>\n",
       "      <th>322</th>\n",
       "      <td>0</td>\n",
       "      <td>pumpkin</td>\n",
       "    </tr>\n",
       "    <tr>\n",
       "      <th>323</th>\n",
       "      <td>0</td>\n",
       "      <td>potato</td>\n",
       "    </tr>\n",
       "    <tr>\n",
       "      <th>324</th>\n",
       "      <td>1</td>\n",
       "      <td>quandong</td>\n",
       "    </tr>\n",
       "    <tr>\n",
       "      <th>325</th>\n",
       "      <td>1</td>\n",
       "      <td>sunchokes</td>\n",
       "    </tr>\n",
       "    <tr>\n",
       "      <th>326</th>\n",
       "      <td>0</td>\n",
       "      <td>zucchini</td>\n",
       "    </tr>\n",
       "  </tbody>\n",
       "</table>\n",
       "<p>327 rows × 2 columns</p>\n",
       "</div>"
      ],
      "text/plain": [
       "     cluster     Animal\n",
       "0          0   elephant\n",
       "1          0    leopard\n",
       "2          0        dog\n",
       "3          0        cat\n",
       "4          1   aligator\n",
       "..       ...        ...\n",
       "322        0    pumpkin\n",
       "323        0     potato\n",
       "324        1   quandong\n",
       "325        1  sunchokes\n",
       "326        0   zucchini\n",
       "\n",
       "[327 rows x 2 columns]"
      ]
     },
     "execution_count": 10,
     "metadata": {},
     "output_type": "execute_result"
    }
   ],
   "source": [
    "run_cluster(closest, label)"
   ]
  },
  {
   "cell_type": "markdown",
   "id": "0e7b6fc2",
   "metadata": {},
   "source": [
    "#### Vary the value of kfrom 1 to 9 and compute the Silhouette coefficient for each set of clusters"
   ]
  },
  {
   "cell_type": "code",
   "execution_count": 11,
   "id": "e44c79c7",
   "metadata": {},
   "outputs": [
    {
     "data": {
      "text/plain": [
       "[0.1525277616533619,\n",
       " 0.15006398638246005,\n",
       " 0.10444311757861054,\n",
       " 0.1006849299279516,\n",
       " 0.12559701724231365,\n",
       " 0.10621892465503065,\n",
       " 0.10815873046903153,\n",
       " 0.10108514200871697,\n",
       " 0.10455160590504144]"
      ]
     },
     "execution_count": 11,
     "metadata": {},
     "output_type": "execute_result"
    }
   ],
   "source": [
    "silhouette_scores = silhouette_coef(data, 10000, kmeans)\n",
    "silhouette_scores"
   ]
  },
  {
   "cell_type": "markdown",
   "id": "25ab6f9c",
   "metadata": {},
   "source": [
    "#### Plot kin the horizontal axis and the Silhouette coefficient in the vertical axis in the same plot."
   ]
  },
  {
   "cell_type": "code",
   "execution_count": 12,
   "id": "3fae74f1",
   "metadata": {},
   "outputs": [
    {
     "data": {
      "image/png": "[encoded data removed]",
      "text/plain": [
       "<Figure size 640x480 with 1 Axes>"
      ]
     },
     "metadata": {},
     "output_type": "display_data"
    }
   ],
   "source": [
    "silhouette_plot(silhouette_scores)"
   ]
  },
  {
   "cell_type": "markdown",
   "id": "f95ae761",
   "metadata": {},
   "source": [
    "## Questions/Tasks 5"
   ]
  },
  {
   "cell_type": "markdown",
   "id": "c6a1e068",
   "metadata": {},
   "source": [
    "#### Run the k-means clustering algorithm you implemented in part (1) to cluster the given instances"
   ]
  },
  {
   "cell_type": "code",
   "execution_count": 13,
   "id": "4a40fc92",
   "metadata": {},
   "outputs": [
    {
     "data": {
      "text/plain": [
       "(3, 300)"
      ]
     },
     "execution_count": 13,
     "metadata": {},
     "output_type": "execute_result"
    }
   ],
   "source": [
    "centeroid, closest  = kmeans_pp(data, 3, 10)\n",
    "centeroid.shape"
   ]
  },
  {
   "cell_type": "code",
   "execution_count": 14,
   "id": "f16513f8",
   "metadata": {},
   "outputs": [
    {
     "data": {
      "text/html": [
       "<div>\n",
       "<style scoped>\n",
       "    .dataframe tbody tr th:only-of-type {\n",
       "        vertical-align: middle;\n",
       "    }\n",
       "\n",
       "    .dataframe tbody tr th {\n",
       "        vertical-align: top;\n",
       "    }\n",
       "\n",
       "    .dataframe thead th {\n",
       "        text-align: right;\n",
       "    }\n",
       "</style>\n",
       "<table border=\"1\" class=\"dataframe\">\n",
       "  <thead>\n",
       "    <tr style=\"text-align: right;\">\n",
       "      <th></th>\n",
       "      <th>cluster</th>\n",
       "      <th>Animal</th>\n",
       "    </tr>\n",
       "  </thead>\n",
       "  <tbody>\n",
       "    <tr>\n",
       "      <th>0</th>\n",
       "      <td>2</td>\n",
       "      <td>elephant</td>\n",
       "    </tr>\n",
       "    <tr>\n",
       "      <th>1</th>\n",
       "      <td>2</td>\n",
       "      <td>leopard</td>\n",
       "    </tr>\n",
       "    <tr>\n",
       "      <th>2</th>\n",
       "      <td>2</td>\n",
       "      <td>dog</td>\n",
       "    </tr>\n",
       "    <tr>\n",
       "      <th>3</th>\n",
       "      <td>2</td>\n",
       "      <td>cat</td>\n",
       "    </tr>\n",
       "    <tr>\n",
       "      <th>4</th>\n",
       "      <td>2</td>\n",
       "      <td>aligator</td>\n",
       "    </tr>\n",
       "    <tr>\n",
       "      <th>...</th>\n",
       "      <td>...</td>\n",
       "      <td>...</td>\n",
       "    </tr>\n",
       "    <tr>\n",
       "      <th>322</th>\n",
       "      <td>1</td>\n",
       "      <td>pumpkin</td>\n",
       "    </tr>\n",
       "    <tr>\n",
       "      <th>323</th>\n",
       "      <td>1</td>\n",
       "      <td>potato</td>\n",
       "    </tr>\n",
       "    <tr>\n",
       "      <th>324</th>\n",
       "      <td>2</td>\n",
       "      <td>quandong</td>\n",
       "    </tr>\n",
       "    <tr>\n",
       "      <th>325</th>\n",
       "      <td>1</td>\n",
       "      <td>sunchokes</td>\n",
       "    </tr>\n",
       "    <tr>\n",
       "      <th>326</th>\n",
       "      <td>1</td>\n",
       "      <td>zucchini</td>\n",
       "    </tr>\n",
       "  </tbody>\n",
       "</table>\n",
       "<p>327 rows × 2 columns</p>\n",
       "</div>"
      ],
      "text/plain": [
       "     cluster     Animal\n",
       "0          2   elephant\n",
       "1          2    leopard\n",
       "2          2        dog\n",
       "3          2        cat\n",
       "4          2   aligator\n",
       "..       ...        ...\n",
       "322        1    pumpkin\n",
       "323        1     potato\n",
       "324        2   quandong\n",
       "325        1  sunchokes\n",
       "326        1   zucchini\n",
       "\n",
       "[327 rows x 2 columns]"
      ]
     },
     "execution_count": 14,
     "metadata": {},
     "output_type": "execute_result"
    }
   ],
   "source": [
    "run_cluster(closest, label)"
   ]
  },
  {
   "cell_type": "markdown",
   "id": "3a6b20db",
   "metadata": {},
   "source": [
    "#### Vary the value of kfrom 1 to 9 and compute the Silhouette coefficient for each set of clusters"
   ]
  },
  {
   "cell_type": "code",
   "execution_count": 15,
   "id": "81bbc3b4",
   "metadata": {},
   "outputs": [
    {
     "data": {
      "text/plain": [
       "[0.1525277616533619,\n",
       " 0.08862630483282688,\n",
       " 0.10178970101853144,\n",
       " 0.14573309908194332,\n",
       " 0.1358182140599662,\n",
       " 0.10148427551023663,\n",
       " 0.09056913130483198,\n",
       " 0.09761054799916012,\n",
       " 0.09460673188500474]"
      ]
     },
     "execution_count": 15,
     "metadata": {},
     "output_type": "execute_result"
    }
   ],
   "source": [
    "silhouette_scores = silhouette_coef(data, 10000, kmeans_pp)\n",
    "silhouette_scores"
   ]
  },
  {
   "cell_type": "markdown",
   "id": "a286c421",
   "metadata": {},
   "source": [
    "#### Plot kin the horizontal axis and the Silhouette coefficient in the vertical axis in the same plot."
   ]
  },
  {
   "cell_type": "code",
   "execution_count": 16,
   "id": "38393287",
   "metadata": {},
   "outputs": [
    {
     "data": {
      "image/png": "[encoded data removed]",
      "text/plain": [
       "<Figure size 640x480 with 1 Axes>"
      ]
     },
     "metadata": {},
     "output_type": "display_data"
    }
   ],
   "source": [
    "silhouette_plot(silhouette_scores)"
   ]
  },
  {
   "cell_type": "markdown",
   "id": "72a5780d",
   "metadata": {},
   "source": [
    "## Questions/Tasks 6"
   ]
  },
  {
   "cell_type": "markdown",
   "id": "a9b289f4",
   "metadata": {},
   "source": [
    "#### Run the k-means clustering algorithm you implemented in part (1) to cluster the given instances"
   ]
  },
  {
   "cell_type": "code",
   "execution_count": 17,
   "id": "2311ca23",
   "metadata": {},
   "outputs": [
    {
     "data": {
      "text/plain": [
       "(3, 300)"
      ]
     },
     "execution_count": 17,
     "metadata": {},
     "output_type": "execute_result"
    }
   ],
   "source": [
    "centeroid, closest = bisecting_kmeans(data, 3, 10)\n",
    "centeroid.shape"
   ]
  },
  {
   "cell_type": "code",
   "execution_count": 18,
   "id": "9e42c920",
   "metadata": {},
   "outputs": [
    {
     "data": {
      "text/html": [
       "<div>\n",
       "<style scoped>\n",
       "    .dataframe tbody tr th:only-of-type {\n",
       "        vertical-align: middle;\n",
       "    }\n",
       "\n",
       "    .dataframe tbody tr th {\n",
       "        vertical-align: top;\n",
       "    }\n",
       "\n",
       "    .dataframe thead th {\n",
       "        text-align: right;\n",
       "    }\n",
       "</style>\n",
       "<table border=\"1\" class=\"dataframe\">\n",
       "  <thead>\n",
       "    <tr style=\"text-align: right;\">\n",
       "      <th></th>\n",
       "      <th>cluster</th>\n",
       "      <th>Animal</th>\n",
       "    </tr>\n",
       "  </thead>\n",
       "  <tbody>\n",
       "    <tr>\n",
       "      <th>0</th>\n",
       "      <td>2</td>\n",
       "      <td>elephant</td>\n",
       "    </tr>\n",
       "    <tr>\n",
       "      <th>1</th>\n",
       "      <td>2</td>\n",
       "      <td>leopard</td>\n",
       "    </tr>\n",
       "    <tr>\n",
       "      <th>2</th>\n",
       "      <td>2</td>\n",
       "      <td>dog</td>\n",
       "    </tr>\n",
       "    <tr>\n",
       "      <th>3</th>\n",
       "      <td>2</td>\n",
       "      <td>cat</td>\n",
       "    </tr>\n",
       "    <tr>\n",
       "      <th>4</th>\n",
       "      <td>2</td>\n",
       "      <td>aligator</td>\n",
       "    </tr>\n",
       "    <tr>\n",
       "      <th>...</th>\n",
       "      <td>...</td>\n",
       "      <td>...</td>\n",
       "    </tr>\n",
       "    <tr>\n",
       "      <th>322</th>\n",
       "      <td>0</td>\n",
       "      <td>pumpkin</td>\n",
       "    </tr>\n",
       "    <tr>\n",
       "      <th>323</th>\n",
       "      <td>0</td>\n",
       "      <td>potato</td>\n",
       "    </tr>\n",
       "    <tr>\n",
       "      <th>324</th>\n",
       "      <td>2</td>\n",
       "      <td>quandong</td>\n",
       "    </tr>\n",
       "    <tr>\n",
       "      <th>325</th>\n",
       "      <td>1</td>\n",
       "      <td>sunchokes</td>\n",
       "    </tr>\n",
       "    <tr>\n",
       "      <th>326</th>\n",
       "      <td>0</td>\n",
       "      <td>zucchini</td>\n",
       "    </tr>\n",
       "  </tbody>\n",
       "</table>\n",
       "<p>327 rows × 2 columns</p>\n",
       "</div>"
      ],
      "text/plain": [
       "     cluster     Animal\n",
       "0          2   elephant\n",
       "1          2    leopard\n",
       "2          2        dog\n",
       "3          2        cat\n",
       "4          2   aligator\n",
       "..       ...        ...\n",
       "322        0    pumpkin\n",
       "323        0     potato\n",
       "324        2   quandong\n",
       "325        1  sunchokes\n",
       "326        0   zucchini\n",
       "\n",
       "[327 rows x 2 columns]"
      ]
     },
     "execution_count": 18,
     "metadata": {},
     "output_type": "execute_result"
    }
   ],
   "source": [
    "run_cluster(closest, label)"
   ]
  },
  {
   "cell_type": "markdown",
   "id": "90ce8f93",
   "metadata": {},
   "source": [
    "#### Vary the value of kfrom 1 to 9 and compute the Silhouette coefficient for each set of clusters"
   ]
  },
  {
   "cell_type": "code",
   "execution_count": 19,
   "id": "94ea1573",
   "metadata": {},
   "outputs": [
    {
     "name": "stderr",
     "output_type": "stream",
     "text": [
      "C:\\Users\\LENOVO\\AppData\\Roaming\\Python\\Python39\\site-packages\\numpy\\core\\fromnumeric.py:3464: RuntimeWarning: Mean of empty slice.\n",
      "  return _methods._mean(a, axis=axis, dtype=dtype,\n",
      "C:\\Users\\LENOVO\\AppData\\Roaming\\Python\\Python39\\site-packages\\numpy\\core\\_methods.py:192: RuntimeWarning: invalid value encountered in scalar divide\n",
      "  ret = ret.dtype.type(ret / rcount)\n"
     ]
    },
    {
     "data": {
      "text/plain": [
       "[0.1525277616533619,\n",
       " 0.11122664117252294,\n",
       " 0.03147871857472016,\n",
       " 0.1018270227845326,\n",
       " -0.003142277358747479,\n",
       " 0.015725023731127767,\n",
       " 0.027073569129352146,\n",
       " nan,\n",
       " 0.03933535431979654]"
      ]
     },
     "execution_count": 19,
     "metadata": {},
     "output_type": "execute_result"
    }
   ],
   "source": [
    "silhouette_scores = silhouette_coef(data, 10000, bisecting_kmeans)\n",
    "silhouette_scores"
   ]
  },
  {
   "cell_type": "markdown",
   "id": "c642809b",
   "metadata": {},
   "source": [
    "#### Plot kin the horizontal axis and the Silhouette coefficient in the vertical axis in the same plot."
   ]
  },
  {
   "cell_type": "code",
   "execution_count": 20,
   "id": "9fabac52",
   "metadata": {},
   "outputs": [
    {
     "data": {
      "image/png": "[encoded data removed]",
      "text/plain": [
       "<Figure size 640x480 with 1 Axes>"
      ]
     },
     "metadata": {},
     "output_type": "display_data"
    }
   ],
   "source": [
    "silhouette_plot(silhouette_scores)"
   ]
  },
  {
   "cell_type": "markdown",
   "id": "f63ac137",
   "metadata": {},
   "source": [
    "## Questions/Tasks 7"
   ]
  },
  {
   "cell_type": "code",
   "execution_count": null,
   "id": "16ddc665",
   "metadata": {},
   "outputs": [],
   "source": []
  },
  {
   "cell_type": "code",
   "execution_count": 21,
   "id": "acedee6b",
   "metadata": {},
   "outputs": [],
   "source": [
    "## f\"silhouette coefficent for {k}: {np.mean(s)}\""
   ]
  }
 ],
 "metadata": {
  "kernelspec": {
   "display_name": "Python 3 (ipykernel)",
   "language": "python",
   "name": "python3"
  },
  "language_info": {
   "codemirror_mode": {
    "name": "ipython",
    "version": 3
   },
   "file_extension": ".py",
   "mimetype": "text/x-python",
   "name": "python",
   "nbconvert_exporter": "python",
   "pygments_lexer": "ipython3",
   "version": "3.9.13"
  }
 },
 "nbformat": 4,
 "nbformat_minor": 5
}
