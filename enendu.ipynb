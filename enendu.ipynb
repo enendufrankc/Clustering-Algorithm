{
 "cells": [
  {
   "cell_type": "markdown",
   "id": "b3dbb343",
   "metadata": {},
   "source": [
    "# Implementing Clustering Algorithms"
   ]
  },
  {
   "cell_type": "code",
   "execution_count": 1,
   "id": "481cd42b",
   "metadata": {},
   "outputs": [],
   "source": [
    "import numpy as np\n",
    "import pandas as pd\n",
    "import matplotlib.pyplot as plt\n",
    "from IPython.display import clear_output\n",
    "import math"
   ]
  },
  {
   "cell_type": "code",
   "execution_count": 2,
   "id": "bc01353c",
   "metadata": {},
   "outputs": [],
   "source": [
    "filepath = 'dataset'\n",
    "def data_import(filepath): \n",
    "    # Create an empty list to hold the data\n",
    "    data = []\n",
    "\n",
    "    # Open the file and read each line\n",
    "    with open(filepath) as f:\n",
    "        for line in f:\n",
    "            # Split the line into individual values\n",
    "            values = line.strip().split()\n",
    "\n",
    "            # Convert each value to a float (except the first one)\n",
    "            values = [float(v) if i!=0 else v for i,v in enumerate(values)]\n",
    "\n",
    "            # Add the values to the data list\n",
    "            data.append(values)\n",
    "\n",
    "    # Convert the data list to a pandas DataFrame\n",
    "    data = pd.DataFrame(data)\n",
    "    label = data.iloc[:, 0]\n",
    "    lebel = np.array(label)\n",
    "    # Drop the first column (label)\n",
    "    data = data.drop(columns=[0])\n",
    "    data = np.array(data)\n",
    "    return data, label\n",
    "data, label = data_import(filepath)"
   ]
  },
  {
   "cell_type": "code",
   "execution_count": 3,
   "id": "cfdac34c",
   "metadata": {},
   "outputs": [],
   "source": [
    "def silhouette_coef(data, maxIter, algorithm):\n",
    "    silhouette_scores = []\n",
    "    for k in range(2, 10):\n",
    "        centers, labels = algorithm(data, k, maxIter)\n",
    "        # calculate silhouette coefficient\n",
    "        s = []\n",
    "        for i in range(len(data)):\n",
    "            a = np.mean([np.linalg.norm(data[i]-data[j]) for j in range(len(data)) if labels[j] == labels[i]])\n",
    "            b = min([np.mean([np.linalg.norm(data[i]-data[j]) for j in range(len(data)) if labels[j] == c]) for c in range(k) if c != labels[i]])\n",
    "            s.append((b-a)/max(a,b))\n",
    "        silhouette_scores.append(np.mean(s))\n",
    "    return silhouette_scores"
   ]
  },
  {
   "cell_type": "code",
   "execution_count": 4,
   "id": "edf1fbfe",
   "metadata": {},
   "outputs": [],
   "source": [
    "def silhouette_plot(silhouette_scores):\n",
    "    # plot silhouette scores for each k\n",
    "    plt.plot(range(2, 10), silhouette_scores)\n",
    "    plt.xlabel('Number of clusters (k)')\n",
    "    plt.ylabel('Silhouette coefficient')\n",
    "    plt.show()"
   ]
  },
  {
   "cell_type": "code",
   "execution_count": 5,
   "id": "3e7371d3",
   "metadata": {},
   "outputs": [],
   "source": [
    "def run_cluster(closest, label):\n",
    "    data_dict = {'closest': closest, 'label': label}\n",
    "\n",
    "    # create a dataframe from the dictionary\n",
    "    df = pd.DataFrame(data_dict)\n",
    "    return df"
   ]
  },
  {
   "cell_type": "markdown",
   "id": "3f37290a",
   "metadata": {},
   "source": [
    "## Questions/Tasks 1"
   ]
  },
  {
   "cell_type": "markdown",
   "id": "dea12c38",
   "metadata": {},
   "source": [
    "#### Explain the k-means clustering algorithm"
   ]
  },
  {
   "cell_type": "markdown",
   "id": "b084d31d",
   "metadata": {},
   "source": [
    "The K-means clustering algorithm is a type of clustering unsupervised learning algorithm for dividing a dataset into K clusters. The algorithm starts with an initial guess for the K cluster centers, and then iteratively assigns each data point to its closest cluster center, followed by updating the cluster centers to be the mean of the assigned points. This process continues until the cluster centers stop moving or until a maximum number of iterations is reached."
   ]
  },
  {
   "cell_type": "markdown",
   "id": "79ad6eda",
   "metadata": {},
   "source": [
    "#### Provide pseudo code of the algorithm"
   ]
  },
  {
   "cell_type": "raw",
   "id": "20b61c33",
   "metadata": {},
   "source": [
    "function K-mean(Dataset, K, maxIter):\n",
    "    // Initialization phase\n",
    "    randomly_choose K points from Dataset as cluster representatives Y1, ..., Yk\n",
    "\n",
    "    repeat for i = 1 to maxIter:\n",
    "        // Assignment phase\n",
    "        create empty clusters C1, ..., Ck\n",
    "        for each point X in the Dataset:\n",
    "            find the closest cluster representative Yj based on squared Euclidean distance\n",
    "            assign X to the cluster with representative Yj\n",
    "            add X to the corresponding cluster Cj\n",
    "        \n",
    "        // Optimization phase\n",
    "        for j = 1 to k:\n",
    "            compute the mean of the points in cluster Cj as the new cluster representative Yj\n",
    "        \n",
    "        // Check convergence\n",
    "        if no points have changed clusters:\n",
    "            break // converged\n",
    "    return cluster representatives Y1, ..., Yk"
   ]
  },
  {
   "cell_type": "markdown",
   "id": "9c7073ee",
   "metadata": {},
   "source": [
    "#### Implement the k-means clustering algorithm following your explanation and the pseudo code"
   ]
  },
  {
   "cell_type": "code",
   "execution_count": 6,
   "id": "416f3a80",
   "metadata": {},
   "outputs": [],
   "source": [
    "def kmeans(data, k, maxIter):\n",
    "    \n",
    "    np.random.seed(42)\n",
    "    # init centers\n",
    "    n = data.shape[0]\n",
    "    \n",
    "    centeroid = data[np.random.choice(n, k, replace=False)]    \n",
    "    closest = np.zeros(n).astype(int)\n",
    "    \n",
    "    for iteration in range(maxIter):\n",
    "        old_closest = closest.copy()\n",
    "        \n",
    "        #  update cluster membership\n",
    "        distances = np.zeros((n,k))\n",
    "        for i in range(k):\n",
    "            distances[:,i] = ((data-centeroid[i])**2).sum(axis=1)\n",
    "        distances\n",
    "        \n",
    "        closest = np.argmin(distances, axis=1)\n",
    "        \n",
    "        #  update centers\n",
    "        for i in range(k):\n",
    "            centeroid[i, :] = data[closest == i].mean(axis=0)\n",
    "            \n",
    "        # break if converged\n",
    "        if all(closest == old_closest):\n",
    "            break\n",
    "    centeroid = np.array(centeroid)\n",
    "    return centeroid, closest"
   ]
  },
  {
   "cell_type": "markdown",
   "id": "407ceee5",
   "metadata": {},
   "source": [
    "## Questions/Tasks 2"
   ]
  },
  {
   "cell_type": "markdown",
   "id": "d2c5855e",
   "metadata": {},
   "source": [
    "#### Explain the k-means++ clustering algorithm. "
   ]
  },
  {
   "cell_type": "code",
   "execution_count": null,
   "id": "8fa6697a",
   "metadata": {},
   "outputs": [],
   "source": []
  },
  {
   "cell_type": "markdown",
   "id": "3de9c0dd",
   "metadata": {},
   "source": [
    "#### Provide pseudo code of the algorithm."
   ]
  },
  {
   "cell_type": "raw",
   "id": "bf2e2e4e",
   "metadata": {},
   "source": [
    "function kmeans++(Dataset, K, Maxiter):\n",
    "    // Initialization phase\n",
    "    randomly_choose 1 point from Dataset as the first cluster representative Y1\n",
    "    for i = 2 to K:\n",
    "        for each point X in the Dataset:\n",
    "            calculate the distance D(X) to its nearest cluster representative\n",
    "        choose the next cluster representative Yi with probability proportional to D(X)^2\n",
    "    set the initial cluster representatives to Y1, ..., Yk\n",
    "    \n",
    "    repeat for i = 1 to Maxiter:\n",
    "        // Assignment phase\n",
    "        create empty clusters C1, ..., Ck\n",
    "        for each point X in the Dataset:\n",
    "            find the closest cluster representative Yj based on squared Euclidean distance\n",
    "            assign X to the cluster with representative Yj\n",
    "            add X to the corresponding cluster Cj\n",
    "        \n",
    "        // Optimization phase\n",
    "        for j = 1 to k:\n",
    "            compute the mean of the points in cluster Cj as the new cluster representative Yj\n",
    "        \n",
    "        // Check convergence\n",
    "        if no points have changed clusters:\n",
    "            break // converged\n",
    "    return cluster representatives Y1, ..., Yk"
   ]
  },
  {
   "cell_type": "markdown",
   "id": "b85c9541",
   "metadata": {},
   "source": [
    "#### Implement the k-means++ clustering algorithm following your explanation and the pseudo code"
   ]
  },
  {
   "cell_type": "code",
   "execution_count": 7,
   "id": "4a28cb95",
   "metadata": {},
   "outputs": [],
   "source": [
    "def kmeans_pp(data, k, maxIter):\n",
    "    \n",
    "    # Initialization\n",
    "    np.random.seed(42)\n",
    "    n = data.shape[0]\n",
    "    centeroid = np.zeros((k, data.shape[1]))\n",
    "    centeroid[0] = data[np.random.choice(n)]\n",
    "    \n",
    "    for i in range(1, k):\n",
    "        # Compute distance to nearest center for each point\n",
    "        distances = np.zeros(n)\n",
    "        for j in range(n):\n",
    "            distances[j] = np.min(np.sum((centeroid[:i] - data[j])**2, axis=1))\n",
    "        \n",
    "        # Choose next center with probability proportional to square distance\n",
    "        prob = distances**2 / np.sum(distances**2)\n",
    "        centeroid[i] = data[np.random.choice(n, p=prob)]\n",
    "        \n",
    "    # K-means iteration\n",
    "    closest = np.zeros(n).astype(int)\n",
    "    \n",
    "    for iteration in range(maxIter):\n",
    "        old_closest = closest.copy()\n",
    "        \n",
    "        #  update cluster membership\n",
    "        distances = np.zeros((n,k))\n",
    "        for i in range(k):\n",
    "            distances[:,i] = ((data-centeroid[i])**2).sum(axis=1)\n",
    "        \n",
    "        closest = np.argmin(distances, axis=1)\n",
    "        \n",
    "        #  update centers\n",
    "        for i in range(k):\n",
    "            centeroid[i, :] = data[closest == i].mean(axis=0)\n",
    "            \n",
    "        # break if converged\n",
    "        if all(closest == old_closest):\n",
    "            break\n",
    "            \n",
    "    return centeroid, closest"
   ]
  },
  {
   "cell_type": "markdown",
   "id": "6fe12652",
   "metadata": {},
   "source": [
    "## Questions/Tasks 3"
   ]
  },
  {
   "cell_type": "markdown",
   "id": "c1d60473",
   "metadata": {},
   "source": [
    "#### Explain the Bisecting k-Means hierarchical clustering algorithm. "
   ]
  },
  {
   "cell_type": "code",
   "execution_count": null,
   "id": "5853904e",
   "metadata": {},
   "outputs": [],
   "source": []
  },
  {
   "cell_type": "markdown",
   "id": "b6cb4ab8",
   "metadata": {},
   "source": [
    "#### Provide pseudo code of the algorithm"
   ]
  },
  {
   "cell_type": "raw",
   "id": "751a2283",
   "metadata": {},
   "source": [
    "Bisecting K-mean (dataset, s):\n",
    "    // Initialization phase\n",
    "    create a tree T with a single node containing the whole dataset D\n",
    "    set current number of clusters k = 1\n",
    "    \n",
    "    // Repeat until k == s\n",
    "    while k < s:\n",
    "        // Select a leaf node L with the largest sum of squared distance\n",
    "        max_dist = -1\n",
    "        for each leaf node L in T:\n",
    "            compute the sum of squared distance ∑ dist(X, Y)**2 for cluster L\n",
    "            if sum_of_squares > max_dist:\n",
    "                max_dist = sum_of_squares\n",
    "                selected_leaf_node = L\n",
    "\n",
    "        // Split the selected leaf node L into 2 clusters L1, L2 using k-means algorithm\n",
    "        cluster_representatives = k-mean(selected_leaf_node.dataset, 2, maxIter)\n",
    "        L1 = a new node with cluster_representatives[1] as its representative and its dataset consisting of the points assigned to that cluster in the k-means algorithm\n",
    "        L2 = a new node with cluster_representatives[2] as its representative and its dataset consisting of the points assigned to that cluster in the k-means algorithm\n",
    "\n",
    "        // Add L1, L2 as children of L in T\n",
    "        remove selected_leaf_node from T\n",
    "        add L1, L2 as children of selected_leaf_node in T\n",
    "\n",
    "        // Update the number of clusters\n",
    "        k = k + 1\n",
    "\n",
    "    // Return the leaf clusters\n",
    "    return all leaf nodes in T"
   ]
  },
  {
   "cell_type": "markdown",
   "id": "be088421",
   "metadata": {},
   "source": [
    "#### Implement the Bisecting k-Means algorithm following your explanation and the pseudo code."
   ]
  },
  {
   "cell_type": "code",
   "execution_count": 8,
   "id": "45007849",
   "metadata": {},
   "outputs": [],
   "source": [
    "def bisecting_kmeans(data, k, maxIter):\n",
    "    # Initialize with all data points in one cluster\n",
    "    np.random.seed(42)\n",
    "    \n",
    "    clusters = [data]\n",
    "    centroid = [data.mean(axis=0)]\n",
    "    closest = np.zeros(data.shape[0]).astype(int)\n",
    "\n",
    "    # Bisect clusters k-1 times\n",
    "    for i in range(k - 1):\n",
    "        # Find the cluster with the largest SSE (sum of squared errors)\n",
    "        max_sse = 0\n",
    "        max_cluster_index = -1\n",
    "        for j in range(len(clusters)):\n",
    "            sse = ((clusters[j] - centroid[j])**2).sum()\n",
    "            if sse > max_sse:\n",
    "                max_sse = sse\n",
    "                max_cluster_index = j\n",
    "\n",
    "        # Bisect the largest cluster\n",
    "        bisect_cluster = clusters.pop(max_cluster_index)\n",
    "        bisect_centroid = centroid.pop(max_cluster_index)\n",
    "\n",
    "        # Run k-means on the two resulting clusters\n",
    "        for j in range(2):\n",
    "            centeroid, closest = kmeans(bisect_cluster, 2, maxIter)\n",
    "            cluster = [bisect_cluster[closest==j] for j in range(k)]\n",
    "            clusters.append(cluster[j])\n",
    "            centroid.append(centeroid[j])\n",
    "\n",
    "    # Assign cluster labels to each data point\n",
    "    labels = np.zeros(data.shape[0]).astype(int)\n",
    "    for i in range(len(clusters)):\n",
    "        labels[np.isin(data, clusters[i]).all(axis=1)] = i\n",
    "    centroid = np.array(centroid)\n",
    "    return centroid, labels"
   ]
  },
  {
   "cell_type": "markdown",
   "id": "240ef5e8",
   "metadata": {},
   "source": [
    "## Questions/Tasks 4"
   ]
  },
  {
   "cell_type": "markdown",
   "id": "b3bd9e96",
   "metadata": {},
   "source": [
    "#### Run the k-means clustering algorithm you implemented in part (1) to cluster the given instances"
   ]
  },
  {
   "cell_type": "code",
   "execution_count": 9,
   "id": "943d03a7",
   "metadata": {},
   "outputs": [
    {
     "data": {
      "text/plain": [
       "(3, 300)"
      ]
     },
     "execution_count": 9,
     "metadata": {},
     "output_type": "execute_result"
    }
   ],
   "source": [
    "centeroid, closest = kmeans(data, 3, 10)\n",
    "centeroid.shape"
   ]
  },
  {
   "cell_type": "code",
   "execution_count": 10,
   "id": "296cd557",
   "metadata": {},
   "outputs": [],
   "source": [
    "kmean_instance = run_cluster(closest, label)"
   ]
  },
  {
   "cell_type": "markdown",
   "id": "0e7b6fc2",
   "metadata": {},
   "source": [
    "#### Vary the value of kfrom 1 to 9 and compute the Silhouette coefficient for each set of clusters"
   ]
  },
  {
   "cell_type": "code",
   "execution_count": 11,
   "id": "e44c79c7",
   "metadata": {},
   "outputs": [
    {
     "data": {
      "text/plain": [
       "[0.1525277616533619,\n",
       " 0.1254423996620156,\n",
       " 0.14730037604455176,\n",
       " 0.10231147536355843,\n",
       " 0.1008193215909744,\n",
       " 0.09842564288027716,\n",
       " 0.09185310952970753,\n",
       " 0.09930530014992404]"
      ]
     },
     "execution_count": 11,
     "metadata": {},
     "output_type": "execute_result"
    }
   ],
   "source": [
    "kmeans_silhouette_scores = silhouette_coef(data, 10000, kmeans)\n",
    "kmeans_silhouette_scores"
   ]
  },
  {
   "cell_type": "markdown",
   "id": "25ab6f9c",
   "metadata": {},
   "source": [
    "#### Plot kin the horizontal axis and the Silhouette coefficient in the vertical axis in the same plot."
   ]
  },
  {
   "cell_type": "code",
   "execution_count": 12,
   "id": "3fae74f1",
   "metadata": {},
   "outputs": [
    {
     "data": {
      "image/png": "[encoded data removed]",
      "text/plain": [
       "<Figure size 640x480 with 1 Axes>"
      ]
     },
     "metadata": {},
     "output_type": "display_data"
    }
   ],
   "source": [
    "silhouette_plot(kmeans_silhouette_scores)"
   ]
  },
  {
   "cell_type": "markdown",
   "id": "f95ae761",
   "metadata": {},
   "source": [
    "## Questions/Tasks 5"
   ]
  },
  {
   "cell_type": "markdown",
   "id": "c6a1e068",
   "metadata": {},
   "source": [
    "#### Run the k-means clustering algorithm you implemented in part (1) to cluster the given instances"
   ]
  },
  {
   "cell_type": "code",
   "execution_count": 13,
   "id": "4a40fc92",
   "metadata": {},
   "outputs": [
    {
     "data": {
      "text/plain": [
       "(3, 300)"
      ]
     },
     "execution_count": 13,
     "metadata": {},
     "output_type": "execute_result"
    }
   ],
   "source": [
    "centeroid, closest  = kmeans_pp(data, 3, 10)\n",
    "centeroid.shape"
   ]
  },
  {
   "cell_type": "code",
   "execution_count": 14,
   "id": "ac924ff5",
   "metadata": {},
   "outputs": [],
   "source": [
    "kmean_pp_instance = run_cluster(closest, label)"
   ]
  },
  {
   "cell_type": "markdown",
   "id": "3a6b20db",
   "metadata": {},
   "source": [
    "#### Vary the value of kfrom 1 to 9 and compute the Silhouette coefficient for each set of clusters"
   ]
  },
  {
   "cell_type": "code",
   "execution_count": 15,
   "id": "81bbc3b4",
   "metadata": {},
   "outputs": [
    {
     "data": {
      "text/plain": [
       "[0.1525277616533619,\n",
       " 0.1407424830071672,\n",
       " 0.1473572330410116,\n",
       " 0.10485065632773105,\n",
       " 0.10411163104261621,\n",
       " 0.10932120051874426,\n",
       " 0.09670043117524023,\n",
       " 0.09695340883637663]"
      ]
     },
     "execution_count": 15,
     "metadata": {},
     "output_type": "execute_result"
    }
   ],
   "source": [
    "kmean_pp_silhouette_scores = silhouette_coef(data, 10000, kmeans_pp)\n",
    "kmean_pp_silhouette_scores"
   ]
  },
  {
   "cell_type": "markdown",
   "id": "a286c421",
   "metadata": {},
   "source": [
    "#### Plot kin the horizontal axis and the Silhouette coefficient in the vertical axis in the same plot."
   ]
  },
  {
   "cell_type": "code",
   "execution_count": 16,
   "id": "38393287",
   "metadata": {},
   "outputs": [
    {
     "data": {
      "image/png": "[encoded data removed]",
      "text/plain": [
       "<Figure size 640x480 with 1 Axes>"
      ]
     },
     "metadata": {},
     "output_type": "display_data"
    }
   ],
   "source": [
    "silhouette_plot(kmean_pp_silhouette_scores)"
   ]
  },
  {
   "cell_type": "markdown",
   "id": "72a5780d",
   "metadata": {},
   "source": [
    "## Questions/Tasks 6"
   ]
  },
  {
   "cell_type": "markdown",
   "id": "a9b289f4",
   "metadata": {},
   "source": [
    "#### Run the k-means clustering algorithm you implemented in part (1) to cluster the given instances"
   ]
  },
  {
   "cell_type": "code",
   "execution_count": 17,
   "id": "2311ca23",
   "metadata": {},
   "outputs": [
    {
     "data": {
      "text/plain": [
       "(3, 300)"
      ]
     },
     "execution_count": 17,
     "metadata": {},
     "output_type": "execute_result"
    }
   ],
   "source": [
    "centeroid, closest = bisecting_kmeans(data, 3, 10)\n",
    "centeroid.shape"
   ]
  },
  {
   "cell_type": "code",
   "execution_count": 18,
   "id": "883065ec",
   "metadata": {},
   "outputs": [],
   "source": [
    "b_kmean_instance = run_cluster(closest, label)"
   ]
  },
  {
   "cell_type": "markdown",
   "id": "90ce8f93",
   "metadata": {},
   "source": [
    "#### Vary the value of kfrom 1 to 9 and compute the Silhouette coefficient for each set of clusters"
   ]
  },
  {
   "cell_type": "code",
   "execution_count": 19,
   "id": "94ea1573",
   "metadata": {
    "scrolled": false
   },
   "outputs": [
    {
     "data": {
      "text/plain": [
       "[0.1525277616533619,\n",
       " 0.14096396520119034,\n",
       " 0.08900959063776609,\n",
       " 0.1018385073051214,\n",
       " 0.09866454895595193,\n",
       " 0.10847294388326363,\n",
       " 0.10053353894518517,\n",
       " 0.09345954482505281]"
      ]
     },
     "execution_count": 19,
     "metadata": {},
     "output_type": "execute_result"
    }
   ],
   "source": [
    "bisecting_kmeans_silhouette_scores = silhouette_coef(data, 10000, bisecting_kmeans)\n",
    "bisecting_kmeans_silhouette_scores"
   ]
  },
  {
   "cell_type": "markdown",
   "id": "c642809b",
   "metadata": {},
   "source": [
    "#### Plot kin the horizontal axis and the Silhouette coefficient in the vertical axis in the same plot."
   ]
  },
  {
   "cell_type": "code",
   "execution_count": 20,
   "id": "9fabac52",
   "metadata": {},
   "outputs": [
    {
     "data": {
      "image/png": "[encoded data removed]",
      "text/plain": [
       "<Figure size 640x480 with 1 Axes>"
      ]
     },
     "metadata": {},
     "output_type": "display_data"
    }
   ],
   "source": [
    "silhouette_plot(bisecting_kmeans_silhouette_scores)"
   ]
  },
  {
   "cell_type": "markdown",
   "id": "f63ac137",
   "metadata": {},
   "source": [
    "## Questions/Tasks 7"
   ]
  },
  {
   "cell_type": "code",
   "execution_count": 31,
   "id": "16ddc665",
   "metadata": {},
   "outputs": [
    {
     "data": {
      "image/png": "[encoded data removed]",
      "text/plain": [
       "<Figure size 640x480 with 1 Axes>"
      ]
     },
     "metadata": {},
     "output_type": "display_data"
    }
   ],
   "source": [
    "# create a dictionary with the three lists as values and column names as keys\n",
    "data = {'bisecting': bisecting_kmeans_silhouette_scores, 'kmean ++': kmean_pp_silhouette_scores, 'kmean': kmeans_silhouette_scores}\n",
    "\n",
    "# create a DataFrame from the dictionary\n",
    "df = pd.DataFrame(data)\n",
    "\n",
    "df = df.set_index(pd.Index(range(2, 10)))\n",
    "\n",
    "# plot a line graph with three lines for each column\n",
    "plt.plot(df['bisecting'], '-o', label='bisecting')\n",
    "plt.plot(df['kmean ++'], '-o', label='kmean ++')\n",
    "plt.plot(df['kmean'], '-o', label='kmean')\n",
    "\n",
    "# add title and legend to the plot\n",
    "plt.title('Line Graph')\n",
    "plt.legend()\n",
    "\n",
    "# show the plot\n",
    "plt.show()"
   ]
  },
  {
   "cell_type": "code",
   "execution_count": 28,
   "id": "85edd586",
   "metadata": {},
   "outputs": [
    {
     "data": {
      "text/html": [
       "<div>\n",
       "<style scoped>\n",
       "    .dataframe tbody tr th:only-of-type {\n",
       "        vertical-align: middle;\n",
       "    }\n",
       "\n",
       "    .dataframe tbody tr th {\n",
       "        vertical-align: top;\n",
       "    }\n",
       "\n",
       "    .dataframe thead th {\n",
       "        text-align: right;\n",
       "    }\n",
       "</style>\n",
       "<table border=\"1\" class=\"dataframe\">\n",
       "  <thead>\n",
       "    <tr style=\"text-align: right;\">\n",
       "      <th></th>\n",
       "      <th>bisecting</th>\n",
       "      <th>kmean ++</th>\n",
       "      <th>kmean</th>\n",
       "    </tr>\n",
       "  </thead>\n",
       "  <tbody>\n",
       "    <tr>\n",
       "      <th>2</th>\n",
       "      <td>0.152528</td>\n",
       "      <td>0.152528</td>\n",
       "      <td>0.152528</td>\n",
       "    </tr>\n",
       "    <tr>\n",
       "      <th>3</th>\n",
       "      <td>0.140964</td>\n",
       "      <td>0.140742</td>\n",
       "      <td>0.125442</td>\n",
       "    </tr>\n",
       "    <tr>\n",
       "      <th>4</th>\n",
       "      <td>0.089010</td>\n",
       "      <td>0.147357</td>\n",
       "      <td>0.147300</td>\n",
       "    </tr>\n",
       "    <tr>\n",
       "      <th>5</th>\n",
       "      <td>0.101839</td>\n",
       "      <td>0.104851</td>\n",
       "      <td>0.102311</td>\n",
       "    </tr>\n",
       "    <tr>\n",
       "      <th>6</th>\n",
       "      <td>0.098665</td>\n",
       "      <td>0.104112</td>\n",
       "      <td>0.100819</td>\n",
       "    </tr>\n",
       "    <tr>\n",
       "      <th>7</th>\n",
       "      <td>0.108473</td>\n",
       "      <td>0.109321</td>\n",
       "      <td>0.098426</td>\n",
       "    </tr>\n",
       "    <tr>\n",
       "      <th>8</th>\n",
       "      <td>0.100534</td>\n",
       "      <td>0.096700</td>\n",
       "      <td>0.091853</td>\n",
       "    </tr>\n",
       "    <tr>\n",
       "      <th>9</th>\n",
       "      <td>0.093460</td>\n",
       "      <td>0.096953</td>\n",
       "      <td>0.099305</td>\n",
       "    </tr>\n",
       "  </tbody>\n",
       "</table>\n",
       "</div>"
      ],
      "text/plain": [
       "   bisecting  kmean ++     kmean\n",
       "2   0.152528  0.152528  0.152528\n",
       "3   0.140964  0.140742  0.125442\n",
       "4   0.089010  0.147357  0.147300\n",
       "5   0.101839  0.104851  0.102311\n",
       "6   0.098665  0.104112  0.100819\n",
       "7   0.108473  0.109321  0.098426\n",
       "8   0.100534  0.096700  0.091853\n",
       "9   0.093460  0.096953  0.099305"
      ]
     },
     "execution_count": 28,
     "metadata": {},
     "output_type": "execute_result"
    }
   ],
   "source": [
    "df"
   ]
  },
  {
   "cell_type": "code",
   "execution_count": 23,
   "id": "01a9b0cc",
   "metadata": {},
   "outputs": [],
   "source": [
    "combined_df = pd.concat([kmean_instance, kmean_pp_instance, b_kmean_instance], axis=1)\n",
    "combined_df = combined_df.iloc[:, [0, 1, 2, 4]]\n",
    "combined_df = combined_df.set_index('label')"
   ]
  },
  {
   "cell_type": "code",
   "execution_count": 24,
   "id": "6171031f",
   "metadata": {},
   "outputs": [],
   "source": [
    "combined_df.columns.values[[0, 1, 2]] = ['kmean clusters', 'kmean ++ clusters', 'bisecting kmean clusters']"
   ]
  },
  {
   "cell_type": "code",
   "execution_count": 25,
   "id": "b50c8ebe",
   "metadata": {},
   "outputs": [
    {
     "data": {
      "text/html": [
       "<div>\n",
       "<style scoped>\n",
       "    .dataframe tbody tr th:only-of-type {\n",
       "        vertical-align: middle;\n",
       "    }\n",
       "\n",
       "    .dataframe tbody tr th {\n",
       "        vertical-align: top;\n",
       "    }\n",
       "\n",
       "    .dataframe thead th {\n",
       "        text-align: right;\n",
       "    }\n",
       "</style>\n",
       "<table border=\"1\" class=\"dataframe\">\n",
       "  <thead>\n",
       "    <tr style=\"text-align: right;\">\n",
       "      <th></th>\n",
       "      <th>kmean clusters</th>\n",
       "      <th>kmean ++ clusters</th>\n",
       "      <th>bisecting kmean clusters</th>\n",
       "    </tr>\n",
       "    <tr>\n",
       "      <th>label</th>\n",
       "      <th></th>\n",
       "      <th></th>\n",
       "      <th></th>\n",
       "    </tr>\n",
       "  </thead>\n",
       "  <tbody>\n",
       "    <tr>\n",
       "      <th>radicchio</th>\n",
       "      <td>2</td>\n",
       "      <td>1</td>\n",
       "      <td>2</td>\n",
       "    </tr>\n",
       "    <tr>\n",
       "      <th>rhubarb</th>\n",
       "      <td>2</td>\n",
       "      <td>1</td>\n",
       "      <td>2</td>\n",
       "    </tr>\n",
       "    <tr>\n",
       "      <th>turnip</th>\n",
       "      <td>2</td>\n",
       "      <td>1</td>\n",
       "      <td>2</td>\n",
       "    </tr>\n",
       "    <tr>\n",
       "      <th>radish</th>\n",
       "      <td>2</td>\n",
       "      <td>1</td>\n",
       "      <td>2</td>\n",
       "    </tr>\n",
       "    <tr>\n",
       "      <th>courgette</th>\n",
       "      <td>2</td>\n",
       "      <td>1</td>\n",
       "      <td>2</td>\n",
       "    </tr>\n",
       "    <tr>\n",
       "      <th>pumpkin</th>\n",
       "      <td>2</td>\n",
       "      <td>2</td>\n",
       "      <td>1</td>\n",
       "    </tr>\n",
       "    <tr>\n",
       "      <th>potato</th>\n",
       "      <td>2</td>\n",
       "      <td>1</td>\n",
       "      <td>2</td>\n",
       "    </tr>\n",
       "    <tr>\n",
       "      <th>quandong</th>\n",
       "      <td>0</td>\n",
       "      <td>2</td>\n",
       "      <td>1</td>\n",
       "    </tr>\n",
       "    <tr>\n",
       "      <th>sunchokes</th>\n",
       "      <td>0</td>\n",
       "      <td>1</td>\n",
       "      <td>2</td>\n",
       "    </tr>\n",
       "    <tr>\n",
       "      <th>zucchini</th>\n",
       "      <td>2</td>\n",
       "      <td>1</td>\n",
       "      <td>2</td>\n",
       "    </tr>\n",
       "  </tbody>\n",
       "</table>\n",
       "</div>"
      ],
      "text/plain": [
       "           kmean clusters  kmean ++ clusters  bisecting kmean clusters\n",
       "label                                                                 \n",
       "radicchio               2                  1                         2\n",
       "rhubarb                 2                  1                         2\n",
       "turnip                  2                  1                         2\n",
       "radish                  2                  1                         2\n",
       "courgette               2                  1                         2\n",
       "pumpkin                 2                  2                         1\n",
       "potato                  2                  1                         2\n",
       "quandong                0                  2                         1\n",
       "sunchokes               0                  1                         2\n",
       "zucchini                2                  1                         2"
      ]
     },
     "execution_count": 25,
     "metadata": {},
     "output_type": "execute_result"
    }
   ],
   "source": [
    "combined_df.tail(10)"
   ]
  },
  {
   "cell_type": "code",
   "execution_count": null,
   "id": "6b1c7b87",
   "metadata": {},
   "outputs": [],
   "source": []
  }
 ],
 "metadata": {
  "kernelspec": {
   "display_name": "Python 3 (ipykernel)",
   "language": "python",
   "name": "python3"
  },
  "language_info": {
   "codemirror_mode": {
    "name": "ipython",
    "version": 3
   },
   "file_extension": ".py",
   "mimetype": "text/x-python",
   "name": "python",
   "nbconvert_exporter": "python",
   "pygments_lexer": "ipython3",
   "version": "3.10.9"
  }
 },
 "nbformat": 4,
 "nbformat_minor": 5
}
